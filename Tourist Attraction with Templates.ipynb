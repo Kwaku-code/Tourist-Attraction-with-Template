{
 "cells": [
  {
   "cell_type": "markdown",
   "metadata": {},
   "source": [
    "base.html"
   ]
  },
  {
   "cell_type": "code",
   "execution_count": null,
   "metadata": {},
   "outputs": [],
   "source": [
    "<!DOCTYPE html>\n",
    "<html>\n",
    "\n",
    "<head>\n",
    "</head>\n",
    "\n",
    "<body>\n",
    "  <header>\n",
    "  {% block head %}\n",
    "  {% endblock %}\n",
    "  </header>\n",
    "\n",
    "  {% block content %}\n",
    "  <a href=\"{% url 'home' %}\">Take me home</a>\n",
    "  {% endblock %}\n",
    "</body>\n",
    "\n",
    "</html>\n"
   ]
  },
  {
   "cell_type": "markdown",
   "metadata": {},
   "source": [
    "home.html"
   ]
  },
  {
   "cell_type": "code",
   "execution_count": null,
   "metadata": {},
   "outputs": [],
   "source": [
    "{% extends \"./base.html\" %}\n",
    "\n",
    "<head>\n",
    "{% block head %}\n",
    "{% endblock %}\n",
    "</head>\n",
    "\n",
    "<body>\n",
    "{% block content %}\n",
    "\n",
    "{% load static %}\n",
    "<h1>This is a list of attractions in America!</h1>\n",
    "<table>\n",
    "  <tr>\n",
    "    <th>Attraction</th>\n",
    "    <th>State</th>\n",
    "    <th>State details</th>\n",
    "  </tr>\n",
    "  {% for item in attractions|dictsort:\"state\" %}\n",
    "  <tr>\n",
    "      <td>{{item.attraction_name}}</td>\n",
    "      <td>{{item.state}}</td>\n",
    "      <td><a href=\"{% url 'details' item.state|slugify %}\">Link</a></td>\n",
    "  </tr>\n",
    "  {% endfor %}\n",
    " <!--  {% for item in attractions|dictsort:\"attraction\" %}\n",
    "    <tr>\n",
    "     <td>{{item.attraction_name}}</td> -->\n",
    "     <!-- <td>{{item.state}}</td>\n",
    "     <td><a href=\"{% url 'details' statename|slugify %}\">Link</a></td> \n",
    "    </tr> -->\n",
    "  <!-- </tr> -->\n",
    "    <!-- {% endfor %} -->\n",
    "  \n",
    "</table>\n",
    " \n",
    "<link rel=\"stylesheet\" href=\"{% static 'tourist_attractions/style.css' %}\">\n",
    "\n",
    "{% endblock %}\n",
    "</body>\n",
    "\n"
   ]
  },
  {
   "cell_type": "markdown",
   "metadata": {},
   "source": [
    "details.html"
   ]
  },
  {
   "cell_type": "code",
   "execution_count": null,
   "metadata": {},
   "outputs": [],
   "source": [
    "{% extends \"./base.html\" %}\n",
    "\n",
    "<head>\n",
    "{% block head %}\n",
    "{% endblock %}\n",
    "</head>\n",
    "\n",
    "<body>\n",
    "{% block content %}\n",
    "\n",
    "{% load static %}\n",
    "\n",
    "<h1>This is a list of tourist attractions for {{statename|title}}</h1>\n",
    "\n",
    "<table>\n",
    "  <tr>\n",
    "    <th>Attraction</th>\n",
    "    <th>State</th>\n",
    "  </tr>\n",
    "  {% for item in attractions|dictsort:\"state\" %}\n",
    "    {% if item.state|lower == statename %}\n",
    "    \n",
    "        <tr>\n",
    "          <td>{{item.attraction_name}}</td>\n",
    "          <td>{{item.state}}</td>\n",
    "        </tr>\n",
    "    \n",
    "    {% endif %}\n",
    "  {% endfor %}\n",
    "</table>\n",
    "\n",
    "<link rel=\"stylesheet\" href=\"{% static 'tourist_attractions/style.css' %}\">\n",
    "\n",
    "{% endblock %}\n",
    "</body>\n"
   ]
  }
 ],
 "metadata": {
  "kernelspec": {
   "display_name": "Python 3",
   "language": "python",
   "name": "python3"
  },
  "language_info": {
   "codemirror_mode": {
    "name": "ipython",
    "version": 3
   },
   "file_extension": ".py",
   "mimetype": "text/x-python",
   "name": "python",
   "nbconvert_exporter": "python",
   "pygments_lexer": "ipython3",
   "version": "3.7.3"
  }
 },
 "nbformat": 4,
 "nbformat_minor": 2
}
